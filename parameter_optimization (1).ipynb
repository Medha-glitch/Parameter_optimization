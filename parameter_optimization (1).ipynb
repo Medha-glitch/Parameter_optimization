{
  "nbformat": 4,
  "nbformat_minor": 0,
  "metadata": {
    "colab": {
      "provenance": []
    },
    "kernelspec": {
      "name": "python3",
      "display_name": "Python 3"
    },
    "language_info": {
      "name": "python"
    }
  },
  "cells": [
    {
      "cell_type": "code",
      "execution_count": 1,
      "metadata": {
        "id": "EKiCeXBY-8rS"
      },
      "outputs": [],
      "source": [
        "import pandas as pd\n",
        "from sklearn.model_selection import train_test_split, RandomizedSearchCV\n",
        "from sklearn.svm import SVC\n",
        "from sklearn.metrics import accuracy_score\n",
        "import matplotlib.pyplot as plt\n",
        "from scipy.stats import loguniform\n",
        "import numpy as np"
      ]
    },
    {
      "cell_type": "markdown",
      "source": [
        "# Loading the Wine Quality dataset"
      ],
      "metadata": {
        "id": "EAoOmSAv_IiB"
      }
    },
    {
      "cell_type": "code",
      "source": [
        "url = \"https://archive.ics.uci.edu/ml/machine-learning-databases/wine-quality/winequality-red.csv\"\n",
        "data = pd.read_csv(url, sep=';')\n",
        "\n",
        "# Basic preprocessing\n",
        "X = data.drop('quality', axis=1)\n",
        "y = data['quality'].apply(lambda x: 1 if x >= 6 else 0)  # Binary classification\n",
        "\n",
        "print(f\"Dataset loaded with {len(X)} samples and {X.shape[1]} features\")"
      ],
      "metadata": {
        "colab": {
          "base_uri": "https://localhost:8080/"
        },
        "id": "6v8ZyAJl_AGo",
        "outputId": "25a1b554-ec2a-4d60-8f4a-2149549c7e02"
      },
      "execution_count": 2,
      "outputs": [
        {
          "output_type": "stream",
          "name": "stdout",
          "text": [
            "Dataset loaded with 1599 samples and 11 features\n"
          ]
        }
      ]
    },
    {
      "cell_type": "markdown",
      "source": [
        "# Creating 10 Training-Test splits"
      ],
      "metadata": {
        "id": "Hn1-blbI_RM3"
      }
    },
    {
      "cell_type": "code",
      "source": [
        "samples = []\n",
        "for i in range(10):\n",
        "    X_train, X_test, y_train, y_test = train_test_split(\n",
        "        X, y,\n",
        "        test_size=0.3,\n",
        "        random_state=i  # Different random state for each sample\n",
        "    )\n",
        "    samples.append((X_train, X_test, y_train, y_test))\n",
        "    print(f\"Sample {i+1}: Train size={len(X_train)}, Test size={len(X_test)}\")"
      ],
      "metadata": {
        "colab": {
          "base_uri": "https://localhost:8080/"
        },
        "id": "aExSdw68_OeP",
        "outputId": "7873b0cc-86de-44d2-c537-32ed04b764ec"
      },
      "execution_count": 3,
      "outputs": [
        {
          "output_type": "stream",
          "name": "stdout",
          "text": [
            "Sample 1: Train size=1119, Test size=480\n",
            "Sample 2: Train size=1119, Test size=480\n",
            "Sample 3: Train size=1119, Test size=480\n",
            "Sample 4: Train size=1119, Test size=480\n",
            "Sample 5: Train size=1119, Test size=480\n",
            "Sample 6: Train size=1119, Test size=480\n",
            "Sample 7: Train size=1119, Test size=480\n",
            "Sample 8: Train size=1119, Test size=480\n",
            "Sample 9: Train size=1119, Test size=480\n",
            "Sample 10: Train size=1119, Test size=480\n"
          ]
        }
      ]
    },
    {
      "cell_type": "markdown",
      "source": [
        "# Optimized SVM Training Function"
      ],
      "metadata": {
        "id": "PhIx2FX__dWP"
      }
    },
    {
      "cell_type": "code",
      "source": [
        "def optimize_svm(X_train, y_train, X_test, y_test, sample_num):\n",
        "    param_dist = {\n",
        "        'C': loguniform(1e-2, 1e2),  # Wider range for better optimization\n",
        "        'gamma': loguniform(1e-4, 1e1),\n",
        "        'kernel': ['rbf', 'linear']\n",
        "    }\n",
        "\n",
        "    svm = SVC()\n",
        "    search = RandomizedSearchCV(\n",
        "        svm,\n",
        "        param_dist,\n",
        "        n_iter=20,  # Optimal balance between speed and performance\n",
        "        cv=3,\n",
        "        n_jobs=-1,  # Use all CPU cores\n",
        "        random_state=42\n",
        "    )\n",
        "\n",
        "    search.fit(X_train, y_train)\n",
        "\n",
        "    # Get best model and predictions\n",
        "    best_svm = search.best_estimator_\n",
        "    y_pred = best_svm.predict(X_test)\n",
        "    test_acc = accuracy_score(y_test, y_pred)\n",
        "\n",
        "    return {\n",
        "        'Sample #': sample_num,\n",
        "        'Train Size': len(X_train),\n",
        "        'Test Size': len(X_test),\n",
        "        'Accuracy': test_acc,\n",
        "        'Best C': search.best_params_['C'],\n",
        "        'Best Gamma': search.best_params_['gamma'],\n",
        "        'Best Kernel': search.best_params_['kernel'],\n",
        "        'Search History': search.cv_results_['mean_test_score']\n",
        "    }"
      ],
      "metadata": {
        "id": "DllqepkP_alQ"
      },
      "execution_count": 7,
      "outputs": []
    },
    {
      "cell_type": "markdown",
      "source": [
        "# Running Optimization for all samples"
      ],
      "metadata": {
        "id": "-NT0cMrL_ooC"
      }
    },
    {
      "cell_type": "code",
      "source": [
        "results = []\n",
        "for i, (X_train, X_test, y_train, y_test) in enumerate(samples, 51):\n",
        "    print(f\"\\nProcessing Sample #{i}...\")\n",
        "    result = optimize_svm(X_train, y_train, X_test, y_test, i)\n",
        "    results.append(result)\n",
        "    print(f\"Completed Sample #{i} with accuracy: {result['Accuracy']:.4f}\")"
      ],
      "metadata": {
        "colab": {
          "base_uri": "https://localhost:8080/"
        },
        "id": "mKXoUqdH_kmb",
        "outputId": "25f01d24-fdc1-40fd-b3ee-a9ed090aad15"
      },
      "execution_count": 8,
      "outputs": [
        {
          "output_type": "stream",
          "name": "stdout",
          "text": [
            "\n",
            "Processing Sample #51...\n",
            "Completed Sample #51 with accuracy: 0.7521\n",
            "\n",
            "Processing Sample #52...\n",
            "Completed Sample #52 with accuracy: 0.7396\n",
            "\n",
            "Processing Sample #53...\n",
            "Completed Sample #53 with accuracy: 0.7125\n",
            "\n",
            "Processing Sample #54...\n",
            "Completed Sample #54 with accuracy: 0.7417\n",
            "\n",
            "Processing Sample #55...\n",
            "Completed Sample #55 with accuracy: 0.7396\n",
            "\n",
            "Processing Sample #56...\n",
            "Completed Sample #56 with accuracy: 0.7521\n",
            "\n",
            "Processing Sample #57...\n",
            "Completed Sample #57 with accuracy: 0.7312\n",
            "\n",
            "Processing Sample #58...\n",
            "Completed Sample #58 with accuracy: 0.7417\n",
            "\n",
            "Processing Sample #59...\n",
            "Completed Sample #59 with accuracy: 0.7521\n",
            "\n",
            "Processing Sample #60...\n",
            "Completed Sample #60 with accuracy: 0.7104\n"
          ]
        }
      ]
    },
    {
      "cell_type": "code",
      "source": [
        "# Create and save Table 1\n",
        "table1 = pd.DataFrame(results)[['Sample #', 'Train Size', 'Test Size', 'Accuracy', 'Best C', 'Best Gamma', 'Best Kernel']]\n",
        "print(\"\\nTable 1. Comparative performance of Optimized-SVM\")\n",
        "print(table1.to_markdown(index=False))\n"
      ],
      "metadata": {
        "colab": {
          "base_uri": "https://localhost:8080/"
        },
        "id": "zyEVWfsg_tIV",
        "outputId": "24f0d85b-38dc-432c-dea0-b4ebcfd32d90"
      },
      "execution_count": 9,
      "outputs": [
        {
          "output_type": "stream",
          "name": "stdout",
          "text": [
            "\n",
            "Table 1. Comparative performance of Optimized-SVM\n",
            "|   Sample # |   Train Size |   Test Size |   Accuracy |   Best C |   Best Gamma | Best Kernel   |\n",
            "|-----------:|-------------:|------------:|-----------:|---------:|-------------:|:--------------|\n",
            "|         51 |         1119 |         480 |   0.752083 | 13.1451  |  0.0964386   | linear        |\n",
            "|         52 |         1119 |         480 |   0.739583 | 56.782   |  0.000100901 | linear        |\n",
            "|         53 |         1119 |         480 |   0.7125   | 13.1451  |  0.0964386   | linear        |\n",
            "|         54 |         1119 |         480 |   0.741667 | 56.782   |  0.000100901 | linear        |\n",
            "|         55 |         1119 |         480 |   0.739583 | 78.5276  |  0.00145833  | linear        |\n",
            "|         56 |         1119 |         480 |   0.752083 | 56.782   |  0.000100901 | linear        |\n",
            "|         57 |         1119 |         480 |   0.73125  |  2.80164 |  0.000498275 | linear        |\n",
            "|         58 |         1119 |         480 |   0.741667 | 78.5276  |  0.00145833  | linear        |\n",
            "|         59 |         1119 |         480 |   0.752083 | 56.782   |  0.000100901 | linear        |\n",
            "|         60 |         1119 |         480 |   0.710417 |  2.80164 |  0.000498275 | linear        |\n"
          ]
        }
      ]
    },
    {
      "cell_type": "code",
      "source": [
        "plt.figure(figsize=(10, 4))\n",
        "plt.axis('off')\n",
        "plt.table(cellText=table1.values, colLabels=table1.columns, loc='center')\n",
        "plt.savefig('results_table.png', bbox_inches='tight', dpi=300)\n",
        "plt.close()"
      ],
      "metadata": {
        "id": "8ZTzwEeFI0gE"
      },
      "execution_count": 11,
      "outputs": []
    },
    {
      "cell_type": "code",
      "source": [
        "# Plot convergence for best sample\n",
        "best_sample = max(results, key=lambda x: x['Accuracy'])\n",
        "plt.figure(figsize=(10,6))\n",
        "plt.plot(best_sample['Search History'], 'o-')\n",
        "plt.title(f\"Convergence Graph (Best Sample #{best_sample['Sample #']}, Accuracy={best_sample['Accuracy']:.4f})\")\n",
        "plt.xlabel(\"Iteration\")\n",
        "plt.ylabel(\"Accuracy\")\n",
        "plt.grid(True)\n",
        "plt.savefig('svm_convergence.png')\n",
        "plt.close()\n",
        "\n",
        "print(\"\\nAll results saved successfully!\")"
      ],
      "metadata": {
        "colab": {
          "base_uri": "https://localhost:8080/"
        },
        "id": "8HOfV8oeI6VF",
        "outputId": "45be2142-fb7e-429f-d03f-4e329bad6d70"
      },
      "execution_count": 12,
      "outputs": [
        {
          "output_type": "stream",
          "name": "stdout",
          "text": [
            "\n",
            "All results saved successfully!\n"
          ]
        }
      ]
    },
    {
      "cell_type": "code",
      "source": [],
      "metadata": {
        "id": "4IRKeFleJEac"
      },
      "execution_count": null,
      "outputs": []
    }
  ]
}